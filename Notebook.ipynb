{
 "cells": [
  {
   "cell_type": "markdown",
   "metadata": {
    "id": "jhYBN0RC01h8"
   },
   "source": [
    "Load Libraries"
   ]
  },
  {
   "cell_type": "code",
   "execution_count": 1,
   "metadata": {
    "id": "NNuDklBI01iF"
   },
   "outputs": [],
   "source": [
    "import pandas as pd\n",
    "\n",
    "import numpy as np\n",
    "\n",
    "import matplotlib.pyplot as plt\n",
    "\n",
    "import seaborn as sns\n",
    "\n",
    "from keras.preprocessing.image import ImageDataGenerator\n",
    "\n",
    "# from tensorflow.keras.utils import array_to_img, img_to_array, load_img"
   ]
  },
  {
   "cell_type": "markdown",
   "metadata": {
    "id": "B40pltRR01iH"
   },
   "source": [
    "Load Data"
   ]
  },
  {
   "cell_type": "code",
   "execution_count": 2,
   "metadata": {
    "id": "Cq0Pb9us01iI",
    "outputId": "ea2a0b54-bc1d-46f8-d791-4a7d9901f341"
   },
   "outputs": [
    {
     "data": {
      "text/html": [
       "<div>\n",
       "<style scoped>\n",
       "    .dataframe tbody tr th:only-of-type {\n",
       "        vertical-align: middle;\n",
       "    }\n",
       "\n",
       "    .dataframe tbody tr th {\n",
       "        vertical-align: top;\n",
       "    }\n",
       "\n",
       "    .dataframe thead th {\n",
       "        text-align: right;\n",
       "    }\n",
       "</style>\n",
       "<table border=\"1\" class=\"dataframe\">\n",
       "  <thead>\n",
       "    <tr style=\"text-align: right;\">\n",
       "      <th></th>\n",
       "      <th>ID</th>\n",
       "      <th>filename</th>\n",
       "      <th>growth_stage</th>\n",
       "      <th>damage</th>\n",
       "      <th>extent</th>\n",
       "      <th>season</th>\n",
       "    </tr>\n",
       "  </thead>\n",
       "  <tbody>\n",
       "    <tr>\n",
       "      <th>0</th>\n",
       "      <td>ID_1S8OOWQYCB</td>\n",
       "      <td>L427F01330C01S03961Rp02052.jpg</td>\n",
       "      <td>S</td>\n",
       "      <td>WD</td>\n",
       "      <td>0</td>\n",
       "      <td>SR2020</td>\n",
       "    </tr>\n",
       "    <tr>\n",
       "      <th>1</th>\n",
       "      <td>ID_0MD959MIZ0</td>\n",
       "      <td>L1083F00930C39S12674Ip.jpg</td>\n",
       "      <td>V</td>\n",
       "      <td>G</td>\n",
       "      <td>0</td>\n",
       "      <td>SR2021</td>\n",
       "    </tr>\n",
       "    <tr>\n",
       "      <th>2</th>\n",
       "      <td>ID_JRJCI4Q11V</td>\n",
       "      <td>24_initial_1_1463_1463.JPG</td>\n",
       "      <td>V</td>\n",
       "      <td>G</td>\n",
       "      <td>0</td>\n",
       "      <td>LR2020</td>\n",
       "    </tr>\n",
       "    <tr>\n",
       "      <th>3</th>\n",
       "      <td>ID_DBO3ZGI1GM</td>\n",
       "      <td>L341F00167C01S00324Rp14178.jpg</td>\n",
       "      <td>M</td>\n",
       "      <td>DR</td>\n",
       "      <td>60</td>\n",
       "      <td>SR2020</td>\n",
       "    </tr>\n",
       "    <tr>\n",
       "      <th>4</th>\n",
       "      <td>ID_ORZLWTEUUS</td>\n",
       "      <td>L1084F02394C39S13931Ip.jpg</td>\n",
       "      <td>V</td>\n",
       "      <td>G</td>\n",
       "      <td>0</td>\n",
       "      <td>SR2021</td>\n",
       "    </tr>\n",
       "  </tbody>\n",
       "</table>\n",
       "</div>"
      ],
      "text/plain": [
       "              ID                        filename growth_stage damage  extent  \\\n",
       "0  ID_1S8OOWQYCB  L427F01330C01S03961Rp02052.jpg            S     WD       0   \n",
       "1  ID_0MD959MIZ0      L1083F00930C39S12674Ip.jpg            V      G       0   \n",
       "2  ID_JRJCI4Q11V      24_initial_1_1463_1463.JPG            V      G       0   \n",
       "3  ID_DBO3ZGI1GM  L341F00167C01S00324Rp14178.jpg            M     DR      60   \n",
       "4  ID_ORZLWTEUUS      L1084F02394C39S13931Ip.jpg            V      G       0   \n",
       "\n",
       "   season  \n",
       "0  SR2020  \n",
       "1  SR2021  \n",
       "2  LR2020  \n",
       "3  SR2020  \n",
       "4  SR2021  "
      ]
     },
     "execution_count": 2,
     "metadata": {},
     "output_type": "execute_result"
    }
   ],
   "source": [
    "def load_data(path):\n",
    "\n",
    "    data = pd.read_csv(path)\n",
    "    return data\n",
    "\n",
    "train_df = load_data('Train.csv')\n",
    "train_df.head()"
   ]
  },
  {
   "cell_type": "markdown",
   "metadata": {
    "id": "wrq26JJX01iK"
   },
   "source": [
    "Data Understanding"
   ]
  },
  {
   "cell_type": "code",
   "execution_count": 3,
   "metadata": {
    "id": "dNeiSb-001iL",
    "outputId": "64af8656-880a-45b9-a9c3-5d1de84b2bbd"
   },
   "outputs": [
    {
     "data": {
      "text/plain": [
       "Index(['ID', 'filename', 'growth_stage', 'damage', 'extent', 'season'], dtype='object')"
      ]
     },
     "execution_count": 3,
     "metadata": {},
     "output_type": "execute_result"
    }
   ],
   "source": [
    "def check_col(data):\n",
    "\n",
    "    col = data.columns\n",
    "    return col\n",
    "\n",
    "check_col(train_df)"
   ]
  },
  {
   "cell_type": "code",
   "execution_count": 4,
   "metadata": {
    "id": "k0OT37bq01iM",
    "outputId": "d373499e-a688-40e3-9a5a-e16d71f0653c"
   },
   "outputs": [
    {
     "name": "stdout",
     "output_type": "stream",
     "text": [
      "The dataset contains 26068 rows and 6 columns\n",
      "**********************************************************************\n",
      "<class 'pandas.core.frame.DataFrame'>\n",
      "RangeIndex: 26068 entries, 0 to 26067\n",
      "Data columns (total 6 columns):\n",
      " #   Column        Non-Null Count  Dtype \n",
      "---  ------        --------------  ----- \n",
      " 0   ID            26068 non-null  object\n",
      " 1   filename      26068 non-null  object\n",
      " 2   growth_stage  26068 non-null  object\n",
      " 3   damage        26068 non-null  object\n",
      " 4   extent        26068 non-null  int64 \n",
      " 5   season        26068 non-null  object\n",
      "dtypes: int64(1), object(5)\n",
      "memory usage: 1.2+ MB\n",
      "None\n"
     ]
    }
   ],
   "source": [
    "def check_shape_info(data):\n",
    "\n",
    "    print(f\"The dataset contains {data.shape[0]} rows and {data.shape[1]} columns\")\n",
    "    print(\"**********************************************************************\")\n",
    "    print(data.info())\n",
    "\n",
    "check_shape_info(train_df)"
   ]
  },
  {
   "cell_type": "code",
   "execution_count": 5,
   "metadata": {
    "id": "ioTRHunu01iN",
    "outputId": "50245e33-b26f-4e8c-ffb0-00532e26d2e7"
   },
   "outputs": [
    {
     "data": {
      "text/html": [
       "<div>\n",
       "<style scoped>\n",
       "    .dataframe tbody tr th:only-of-type {\n",
       "        vertical-align: middle;\n",
       "    }\n",
       "\n",
       "    .dataframe tbody tr th {\n",
       "        vertical-align: top;\n",
       "    }\n",
       "\n",
       "    .dataframe thead th {\n",
       "        text-align: right;\n",
       "    }\n",
       "</style>\n",
       "<table border=\"1\" class=\"dataframe\">\n",
       "  <thead>\n",
       "    <tr style=\"text-align: right;\">\n",
       "      <th></th>\n",
       "      <th>extent</th>\n",
       "    </tr>\n",
       "  </thead>\n",
       "  <tbody>\n",
       "    <tr>\n",
       "      <th>count</th>\n",
       "      <td>26068.000000</td>\n",
       "    </tr>\n",
       "    <tr>\n",
       "      <th>mean</th>\n",
       "      <td>7.096056</td>\n",
       "    </tr>\n",
       "    <tr>\n",
       "      <th>std</th>\n",
       "      <td>18.613229</td>\n",
       "    </tr>\n",
       "    <tr>\n",
       "      <th>min</th>\n",
       "      <td>0.000000</td>\n",
       "    </tr>\n",
       "    <tr>\n",
       "      <th>25%</th>\n",
       "      <td>0.000000</td>\n",
       "    </tr>\n",
       "    <tr>\n",
       "      <th>50%</th>\n",
       "      <td>0.000000</td>\n",
       "    </tr>\n",
       "    <tr>\n",
       "      <th>75%</th>\n",
       "      <td>0.000000</td>\n",
       "    </tr>\n",
       "    <tr>\n",
       "      <th>max</th>\n",
       "      <td>100.000000</td>\n",
       "    </tr>\n",
       "  </tbody>\n",
       "</table>\n",
       "</div>"
      ],
      "text/plain": [
       "             extent\n",
       "count  26068.000000\n",
       "mean       7.096056\n",
       "std       18.613229\n",
       "min        0.000000\n",
       "25%        0.000000\n",
       "50%        0.000000\n",
       "75%        0.000000\n",
       "max      100.000000"
      ]
     },
     "execution_count": 5,
     "metadata": {},
     "output_type": "execute_result"
    }
   ],
   "source": [
    "def descriptive_analysis(data, col):\n",
    "\n",
    "    descriptive_analysis = data[col]\n",
    "    return descriptive_analysis.describe()\n",
    "\n",
    "col = ['extent']\n",
    "descriptive_analysis(train_df, col)"
   ]
  },
  {
   "cell_type": "code",
   "execution_count": 6,
   "metadata": {
    "id": "LImvEaty01iO",
    "outputId": "43abd973-f799-41db-9dd2-c7fafde40dfe"
   },
   "outputs": [
    {
     "data": {
      "text/plain": [
       "growth_stage\n",
       "V               10015\n",
       "M                6664\n",
       "F                6164\n",
       "S                3225\n",
       "dtype: int64"
      ]
     },
     "execution_count": 6,
     "metadata": {},
     "output_type": "execute_result"
    }
   ],
   "source": [
    "def tally_responses(data, col):\n",
    "\n",
    "    unique_response = data[col].value_counts()\n",
    "    return unique_response\n",
    "\n",
    "col = ['growth_stage']\n",
    "tally_responses(train_df, col)"
   ]
  },
  {
   "cell_type": "code",
   "execution_count": 7,
   "metadata": {
    "id": "V2zII09z01iP",
    "outputId": "140ee101-d3e0-4599-af9b-9087e5fdc7de"
   },
   "outputs": [
    {
     "data": {
      "text/plain": [
       "damage\n",
       "G         11623\n",
       "WD         9238\n",
       "DR         4516\n",
       "ND          272\n",
       "PS          254\n",
       "DS          115\n",
       "WN           37\n",
       "FD           13\n",
       "dtype: int64"
      ]
     },
     "execution_count": 7,
     "metadata": {},
     "output_type": "execute_result"
    }
   ],
   "source": [
    "col = ['damage']\n",
    "tally_responses(train_df, col)"
   ]
  },
  {
   "cell_type": "code",
   "execution_count": 8,
   "metadata": {
    "id": "y7V-nUFQ01iQ",
    "outputId": "27bd1eba-92ed-4c82-e443-03ad0f0c5716"
   },
   "outputs": [
    {
     "data": {
      "text/plain": [
       "season\n",
       "SR2021    9927\n",
       "LR2021    7945\n",
       "SR2020    6163\n",
       "LR2020    2033\n",
       "dtype: int64"
      ]
     },
     "execution_count": 8,
     "metadata": {},
     "output_type": "execute_result"
    }
   ],
   "source": [
    "col = ['season']\n",
    "tally_responses(train_df, col)"
   ]
  },
  {
   "cell_type": "markdown",
   "metadata": {},
   "source": [
    "## Data Cleaning  "
   ]
  },
  {
   "cell_type": "code",
   "execution_count": 9,
   "metadata": {},
   "outputs": [
    {
     "data": {
      "text/plain": [
       "0"
      ]
     },
     "execution_count": 9,
     "metadata": {},
     "output_type": "execute_result"
    }
   ],
   "source": [
    "def missing(df):\n",
    "    #missing values\n",
    "    missing_values = df.isnull().sum()\n",
    "    \n",
    "    #duplicate\n",
    "    duplicates = df.duplicated().sum()\n",
    "    \n",
    "    return(duplicates)\n",
    "\n",
    "    \n",
    "missing(train_df)\n",
    "#outliers \n"
   ]
  },
  {
   "cell_type": "code",
   "execution_count": 10,
   "metadata": {},
   "outputs": [],
   "source": [
    "# train_df.plot.box('extent')"
   ]
  },
  {
   "cell_type": "code",
   "execution_count": 11,
   "metadata": {},
   "outputs": [
    {
     "data": {
      "text/plain": [
       "0      21558\n",
       "10       729\n",
       "30       727\n",
       "40       696\n",
       "20       690\n",
       "50       445\n",
       "60       388\n",
       "90       300\n",
       "80       291\n",
       "70       199\n",
       "100       45\n",
       "Name: extent, dtype: int64"
      ]
     },
     "execution_count": 11,
     "metadata": {},
     "output_type": "execute_result"
    }
   ],
   "source": [
    "train_df.extent.value_counts().sort_values(ascending=False)"
   ]
  },
  {
   "cell_type": "code",
   "execution_count": 12,
   "metadata": {},
   "outputs": [
    {
     "name": "stdout",
     "output_type": "stream",
     "text": [
      "mean of the dataset is 7.096056467699862\n",
      "std. deviation is 18.61287150126672\n"
     ]
    }
   ],
   "source": [
    "mean = np.mean(train_df['extent'])\n",
    "std = np.std(train_df['extent'])\n",
    "print('mean of the dataset is', mean)\n",
    "print('std. deviation is', std)\n",
    "threshold = 3\n",
    "outlier = []\n",
    "for i in train_df['extent']:\n",
    "    z = (i-mean)/std\n",
    "    if z > threshold:\n",
    "        outlier.append(i)\n",
    "#print('outlier in dataset is', outlier)"
   ]
  },
  {
   "cell_type": "code",
   "execution_count": 13,
   "metadata": {},
   "outputs": [
    {
     "data": {
      "text/plain": [
       "list"
      ]
     },
     "execution_count": 13,
     "metadata": {},
     "output_type": "execute_result"
    }
   ],
   "source": [
    "type(outlier)"
   ]
  },
  {
   "cell_type": "code",
   "execution_count": 14,
   "metadata": {},
   "outputs": [],
   "source": [
    "# outlier.sort_values(by = 'outlier', ascending=False)"
   ]
  },
  {
   "cell_type": "code",
   "execution_count": 15,
   "metadata": {},
   "outputs": [],
   "source": [
    "# outlier.columns=['outlier']"
   ]
  },
  {
   "cell_type": "code",
   "execution_count": 16,
   "metadata": {},
   "outputs": [],
   "source": [
    "# outlier.plot.box('outlier')"
   ]
  },
  {
   "cell_type": "code",
   "execution_count": 17,
   "metadata": {},
   "outputs": [
    {
     "data": {
      "text/plain": [
       "'def outliers(data, threshold=3):\\n    z_score = data(data - data.mean()) / data.std()\\n    outliers = '"
      ]
     },
     "execution_count": 17,
     "metadata": {},
     "output_type": "execute_result"
    }
   ],
   "source": [
    "\"\"\"def outliers(data, threshold=3):\n",
    "    z_score = data(data - data.mean()) / data.std()\n",
    "    outliers = \"\"\""
   ]
  },
  {
   "cell_type": "code",
   "execution_count": 18,
   "metadata": {},
   "outputs": [
    {
     "data": {
      "text/html": [
       "<div>\n",
       "<style scoped>\n",
       "    .dataframe tbody tr th:only-of-type {\n",
       "        vertical-align: middle;\n",
       "    }\n",
       "\n",
       "    .dataframe tbody tr th {\n",
       "        vertical-align: top;\n",
       "    }\n",
       "\n",
       "    .dataframe thead th {\n",
       "        text-align: right;\n",
       "    }\n",
       "</style>\n",
       "<table border=\"1\" class=\"dataframe\">\n",
       "  <thead>\n",
       "    <tr style=\"text-align: right;\">\n",
       "      <th></th>\n",
       "      <th>ID</th>\n",
       "      <th>filename</th>\n",
       "      <th>growth_stage</th>\n",
       "      <th>damage</th>\n",
       "      <th>extent</th>\n",
       "      <th>season</th>\n",
       "    </tr>\n",
       "  </thead>\n",
       "  <tbody>\n",
       "    <tr>\n",
       "      <th>41</th>\n",
       "      <td>ID_L3YYRSTAP8</td>\n",
       "      <td>L134F00762C01S05370Rp14099.jpg</td>\n",
       "      <td>M</td>\n",
       "      <td>DR</td>\n",
       "      <td>70</td>\n",
       "      <td>SR2020</td>\n",
       "    </tr>\n",
       "    <tr>\n",
       "      <th>12807</th>\n",
       "      <td>ID_BYI3EN5G0H</td>\n",
       "      <td>L131F03896C01S01628Rp14769.jpg</td>\n",
       "      <td>M</td>\n",
       "      <td>DR</td>\n",
       "      <td>70</td>\n",
       "      <td>SR2020</td>\n",
       "    </tr>\n",
       "    <tr>\n",
       "      <th>12792</th>\n",
       "      <td>ID_QYNEVRH9VU</td>\n",
       "      <td>L222F01109C01S03762Rp14789.jpg</td>\n",
       "      <td>M</td>\n",
       "      <td>DR</td>\n",
       "      <td>70</td>\n",
       "      <td>SR2020</td>\n",
       "    </tr>\n",
       "    <tr>\n",
       "      <th>12771</th>\n",
       "      <td>ID_1WE68UZB5E</td>\n",
       "      <td>L1116F02814C39S11846Rp41275.jpg</td>\n",
       "      <td>M</td>\n",
       "      <td>DR</td>\n",
       "      <td>70</td>\n",
       "      <td>SR2021</td>\n",
       "    </tr>\n",
       "    <tr>\n",
       "      <th>12756</th>\n",
       "      <td>ID_3D1M164W3A</td>\n",
       "      <td>201_repeat_2_1382_6393_4759.JPG</td>\n",
       "      <td>M</td>\n",
       "      <td>DR</td>\n",
       "      <td>70</td>\n",
       "      <td>LR2020</td>\n",
       "    </tr>\n",
       "    <tr>\n",
       "      <th>12496</th>\n",
       "      <td>ID_HINHZ4AYCE</td>\n",
       "      <td>L1095F00444C39S12039Rp43714.jpg</td>\n",
       "      <td>M</td>\n",
       "      <td>DR</td>\n",
       "      <td>70</td>\n",
       "      <td>SR2021</td>\n",
       "    </tr>\n",
       "    <tr>\n",
       "      <th>12315</th>\n",
       "      <td>ID_3L3MNX2GLO</td>\n",
       "      <td>21_repeat_2_1361_6009_4370.JPG</td>\n",
       "      <td>M</td>\n",
       "      <td>DR</td>\n",
       "      <td>70</td>\n",
       "      <td>LR2020</td>\n",
       "    </tr>\n",
       "    <tr>\n",
       "      <th>12195</th>\n",
       "      <td>ID_Q6VUY9C2ZC</td>\n",
       "      <td>L429F01858C01S02065Rp13273.jpg</td>\n",
       "      <td>M</td>\n",
       "      <td>DR</td>\n",
       "      <td>70</td>\n",
       "      <td>SR2020</td>\n",
       "    </tr>\n",
       "    <tr>\n",
       "      <th>12002</th>\n",
       "      <td>ID_56M7GHWF31</td>\n",
       "      <td>L144F00512C01S07633Rp30712.jpg</td>\n",
       "      <td>M</td>\n",
       "      <td>DR</td>\n",
       "      <td>70</td>\n",
       "      <td>LR2021</td>\n",
       "    </tr>\n",
       "    <tr>\n",
       "      <th>11972</th>\n",
       "      <td>ID_EK9VBT298G</td>\n",
       "      <td>158_repeat_2_1490_5508_3885.JPG</td>\n",
       "      <td>M</td>\n",
       "      <td>DR</td>\n",
       "      <td>70</td>\n",
       "      <td>LR2020</td>\n",
       "    </tr>\n",
       "    <tr>\n",
       "      <th>11819</th>\n",
       "      <td>ID_7WSPXRP3WG</td>\n",
       "      <td>L355F02274C01S05291Rp14326.jpg</td>\n",
       "      <td>M</td>\n",
       "      <td>DR</td>\n",
       "      <td>70</td>\n",
       "      <td>SR2020</td>\n",
       "    </tr>\n",
       "    <tr>\n",
       "      <th>11785</th>\n",
       "      <td>ID_BPI8FDHM6W</td>\n",
       "      <td>L1133F00345C01S01576Rp03161.jpg</td>\n",
       "      <td>M</td>\n",
       "      <td>DR</td>\n",
       "      <td>70</td>\n",
       "      <td>SR2020</td>\n",
       "    </tr>\n",
       "    <tr>\n",
       "      <th>11782</th>\n",
       "      <td>ID_RXELPFIKF5</td>\n",
       "      <td>L376F02742C39S14788Rp47921.jpg</td>\n",
       "      <td>V</td>\n",
       "      <td>DR</td>\n",
       "      <td>70</td>\n",
       "      <td>SR2021</td>\n",
       "    </tr>\n",
       "    <tr>\n",
       "      <th>11761</th>\n",
       "      <td>ID_LPLOR1ECEL</td>\n",
       "      <td>190_repeat_2_1158_6186_4549.JPG</td>\n",
       "      <td>M</td>\n",
       "      <td>DR</td>\n",
       "      <td>70</td>\n",
       "      <td>LR2020</td>\n",
       "    </tr>\n",
       "    <tr>\n",
       "      <th>11505</th>\n",
       "      <td>ID_FWBHCS4UJB</td>\n",
       "      <td>L321F01934C01S05656Rp14958.jpg</td>\n",
       "      <td>M</td>\n",
       "      <td>DR</td>\n",
       "      <td>70</td>\n",
       "      <td>SR2020</td>\n",
       "    </tr>\n",
       "    <tr>\n",
       "      <th>11135</th>\n",
       "      <td>ID_2YCLHBGCEV</td>\n",
       "      <td>L405F00113C01S08297Rp31963.jpg</td>\n",
       "      <td>F</td>\n",
       "      <td>DR</td>\n",
       "      <td>70</td>\n",
       "      <td>LR2021</td>\n",
       "    </tr>\n",
       "    <tr>\n",
       "      <th>12891</th>\n",
       "      <td>ID_QLUKLVC3R7</td>\n",
       "      <td>L242F01314C03S08175Rp27392.jpg</td>\n",
       "      <td>V</td>\n",
       "      <td>DR</td>\n",
       "      <td>70</td>\n",
       "      <td>LR2021</td>\n",
       "    </tr>\n",
       "    <tr>\n",
       "      <th>12918</th>\n",
       "      <td>ID_AZ8S3U30D1</td>\n",
       "      <td>L1094F01746C01S03173Rp08481.jpg</td>\n",
       "      <td>M</td>\n",
       "      <td>DR</td>\n",
       "      <td>70</td>\n",
       "      <td>SR2020</td>\n",
       "    </tr>\n",
       "    <tr>\n",
       "      <th>12925</th>\n",
       "      <td>ID_R80T0TQ6NS</td>\n",
       "      <td>14_repeat_2_1425_6062_4430.JPG</td>\n",
       "      <td>M</td>\n",
       "      <td>DR</td>\n",
       "      <td>70</td>\n",
       "      <td>LR2020</td>\n",
       "    </tr>\n",
       "    <tr>\n",
       "      <th>12945</th>\n",
       "      <td>ID_HQKVGS9R0B</td>\n",
       "      <td>L428F01171C39S13961Rp47354.jpg</td>\n",
       "      <td>F</td>\n",
       "      <td>DR</td>\n",
       "      <td>70</td>\n",
       "      <td>SR2021</td>\n",
       "    </tr>\n",
       "    <tr>\n",
       "      <th>14948</th>\n",
       "      <td>ID_BNC379K4SF</td>\n",
       "      <td>L411F02858C01S08192Rp29889.jpg</td>\n",
       "      <td>F</td>\n",
       "      <td>DR</td>\n",
       "      <td>70</td>\n",
       "      <td>LR2021</td>\n",
       "    </tr>\n",
       "    <tr>\n",
       "      <th>14917</th>\n",
       "      <td>ID_262YW02F20</td>\n",
       "      <td>L1094F01184C01S01181Rp10051.jpg</td>\n",
       "      <td>M</td>\n",
       "      <td>DR</td>\n",
       "      <td>70</td>\n",
       "      <td>SR2020</td>\n",
       "    </tr>\n",
       "    <tr>\n",
       "      <th>14832</th>\n",
       "      <td>ID_KQFRTXGP8F</td>\n",
       "      <td>L406F01761C01S01359Rp12944.jpg</td>\n",
       "      <td>M</td>\n",
       "      <td>DR</td>\n",
       "      <td>70</td>\n",
       "      <td>SR2020</td>\n",
       "    </tr>\n",
       "    <tr>\n",
       "      <th>14668</th>\n",
       "      <td>ID_OX96F9BA0I</td>\n",
       "      <td>L231F03543C03S08756Rp30286.jpg</td>\n",
       "      <td>V</td>\n",
       "      <td>DR</td>\n",
       "      <td>70</td>\n",
       "      <td>LR2021</td>\n",
       "    </tr>\n",
       "    <tr>\n",
       "      <th>14646</th>\n",
       "      <td>ID_RR8N01JPE8</td>\n",
       "      <td>L1130F01042C01S07357Rp27132.jpg</td>\n",
       "      <td>M</td>\n",
       "      <td>DR</td>\n",
       "      <td>70</td>\n",
       "      <td>LR2021</td>\n",
       "    </tr>\n",
       "    <tr>\n",
       "      <th>14524</th>\n",
       "      <td>ID_QYIKXX2W22</td>\n",
       "      <td>L134F00871C39S14212Rp48354.jpg</td>\n",
       "      <td>F</td>\n",
       "      <td>DR</td>\n",
       "      <td>70</td>\n",
       "      <td>SR2021</td>\n",
       "    </tr>\n",
       "    <tr>\n",
       "      <th>14450</th>\n",
       "      <td>ID_K1NJD72QJF</td>\n",
       "      <td>L376F03264C39S14382Dp46973.jpg</td>\n",
       "      <td>V</td>\n",
       "      <td>DR</td>\n",
       "      <td>70</td>\n",
       "      <td>SR2021</td>\n",
       "    </tr>\n",
       "    <tr>\n",
       "      <th>11060</th>\n",
       "      <td>ID_5WUWJ76QFU</td>\n",
       "      <td>L133F00686C39S14614Rp47501.jpg</td>\n",
       "      <td>M</td>\n",
       "      <td>DR</td>\n",
       "      <td>70</td>\n",
       "      <td>SR2021</td>\n",
       "    </tr>\n",
       "    <tr>\n",
       "      <th>14243</th>\n",
       "      <td>ID_7TYPU0RFZY</td>\n",
       "      <td>L429F03126C01S01041Rp13501.jpg</td>\n",
       "      <td>M</td>\n",
       "      <td>DR</td>\n",
       "      <td>70</td>\n",
       "      <td>SR2020</td>\n",
       "    </tr>\n",
       "    <tr>\n",
       "      <th>14034</th>\n",
       "      <td>ID_SH7YRRD2U4</td>\n",
       "      <td>L133F00979C39S14339Rp48551.jpg</td>\n",
       "      <td>M</td>\n",
       "      <td>DR</td>\n",
       "      <td>70</td>\n",
       "      <td>SR2021</td>\n",
       "    </tr>\n",
       "  </tbody>\n",
       "</table>\n",
       "</div>"
      ],
      "text/plain": [
       "                  ID                         filename growth_stage damage  \\\n",
       "41     ID_L3YYRSTAP8   L134F00762C01S05370Rp14099.jpg            M     DR   \n",
       "12807  ID_BYI3EN5G0H   L131F03896C01S01628Rp14769.jpg            M     DR   \n",
       "12792  ID_QYNEVRH9VU   L222F01109C01S03762Rp14789.jpg            M     DR   \n",
       "12771  ID_1WE68UZB5E  L1116F02814C39S11846Rp41275.jpg            M     DR   \n",
       "12756  ID_3D1M164W3A  201_repeat_2_1382_6393_4759.JPG            M     DR   \n",
       "12496  ID_HINHZ4AYCE  L1095F00444C39S12039Rp43714.jpg            M     DR   \n",
       "12315  ID_3L3MNX2GLO   21_repeat_2_1361_6009_4370.JPG            M     DR   \n",
       "12195  ID_Q6VUY9C2ZC   L429F01858C01S02065Rp13273.jpg            M     DR   \n",
       "12002  ID_56M7GHWF31   L144F00512C01S07633Rp30712.jpg            M     DR   \n",
       "11972  ID_EK9VBT298G  158_repeat_2_1490_5508_3885.JPG            M     DR   \n",
       "11819  ID_7WSPXRP3WG   L355F02274C01S05291Rp14326.jpg            M     DR   \n",
       "11785  ID_BPI8FDHM6W  L1133F00345C01S01576Rp03161.jpg            M     DR   \n",
       "11782  ID_RXELPFIKF5   L376F02742C39S14788Rp47921.jpg            V     DR   \n",
       "11761  ID_LPLOR1ECEL  190_repeat_2_1158_6186_4549.JPG            M     DR   \n",
       "11505  ID_FWBHCS4UJB   L321F01934C01S05656Rp14958.jpg            M     DR   \n",
       "11135  ID_2YCLHBGCEV   L405F00113C01S08297Rp31963.jpg            F     DR   \n",
       "12891  ID_QLUKLVC3R7   L242F01314C03S08175Rp27392.jpg            V     DR   \n",
       "12918  ID_AZ8S3U30D1  L1094F01746C01S03173Rp08481.jpg            M     DR   \n",
       "12925  ID_R80T0TQ6NS   14_repeat_2_1425_6062_4430.JPG            M     DR   \n",
       "12945  ID_HQKVGS9R0B   L428F01171C39S13961Rp47354.jpg            F     DR   \n",
       "14948  ID_BNC379K4SF   L411F02858C01S08192Rp29889.jpg            F     DR   \n",
       "14917  ID_262YW02F20  L1094F01184C01S01181Rp10051.jpg            M     DR   \n",
       "14832  ID_KQFRTXGP8F   L406F01761C01S01359Rp12944.jpg            M     DR   \n",
       "14668  ID_OX96F9BA0I   L231F03543C03S08756Rp30286.jpg            V     DR   \n",
       "14646  ID_RR8N01JPE8  L1130F01042C01S07357Rp27132.jpg            M     DR   \n",
       "14524  ID_QYIKXX2W22   L134F00871C39S14212Rp48354.jpg            F     DR   \n",
       "14450  ID_K1NJD72QJF   L376F03264C39S14382Dp46973.jpg            V     DR   \n",
       "11060  ID_5WUWJ76QFU   L133F00686C39S14614Rp47501.jpg            M     DR   \n",
       "14243  ID_7TYPU0RFZY   L429F03126C01S01041Rp13501.jpg            M     DR   \n",
       "14034  ID_SH7YRRD2U4   L133F00979C39S14339Rp48551.jpg            M     DR   \n",
       "\n",
       "       extent  season  \n",
       "41         70  SR2020  \n",
       "12807      70  SR2020  \n",
       "12792      70  SR2020  \n",
       "12771      70  SR2021  \n",
       "12756      70  LR2020  \n",
       "12496      70  SR2021  \n",
       "12315      70  LR2020  \n",
       "12195      70  SR2020  \n",
       "12002      70  LR2021  \n",
       "11972      70  LR2020  \n",
       "11819      70  SR2020  \n",
       "11785      70  SR2020  \n",
       "11782      70  SR2021  \n",
       "11761      70  LR2020  \n",
       "11505      70  SR2020  \n",
       "11135      70  LR2021  \n",
       "12891      70  LR2021  \n",
       "12918      70  SR2020  \n",
       "12925      70  LR2020  \n",
       "12945      70  SR2021  \n",
       "14948      70  LR2021  \n",
       "14917      70  SR2020  \n",
       "14832      70  SR2020  \n",
       "14668      70  LR2021  \n",
       "14646      70  LR2021  \n",
       "14524      70  SR2021  \n",
       "14450      70  SR2021  \n",
       "11060      70  SR2021  \n",
       "14243      70  SR2020  \n",
       "14034      70  SR2021  "
      ]
     },
     "execution_count": 18,
     "metadata": {},
     "output_type": "execute_result"
    }
   ],
   "source": [
    "train_df[train_df['extent' ] >= 70].sort_values(by='extent').head(30)"
   ]
  },
  {
   "cell_type": "markdown",
   "metadata": {},
   "source": [
    "### EDA Summary "
   ]
  },
  {
   "cell_type": "markdown",
   "metadata": {},
   "source": [
    "## Exploratory Data Analysis"
   ]
  },
  {
   "cell_type": "code",
   "execution_count": 19,
   "metadata": {},
   "outputs": [
    {
     "data": {
      "text/html": [
       "<div>\n",
       "<style scoped>\n",
       "    .dataframe tbody tr th:only-of-type {\n",
       "        vertical-align: middle;\n",
       "    }\n",
       "\n",
       "    .dataframe tbody tr th {\n",
       "        vertical-align: top;\n",
       "    }\n",
       "\n",
       "    .dataframe thead th {\n",
       "        text-align: right;\n",
       "    }\n",
       "</style>\n",
       "<table border=\"1\" class=\"dataframe\">\n",
       "  <thead>\n",
       "    <tr style=\"text-align: right;\">\n",
       "      <th></th>\n",
       "      <th>ID</th>\n",
       "      <th>filename</th>\n",
       "      <th>growth_stage</th>\n",
       "      <th>damage</th>\n",
       "      <th>extent</th>\n",
       "      <th>season</th>\n",
       "    </tr>\n",
       "  </thead>\n",
       "  <tbody>\n",
       "    <tr>\n",
       "      <th>0</th>\n",
       "      <td>ID_1S8OOWQYCB</td>\n",
       "      <td>L427F01330C01S03961Rp02052.jpg</td>\n",
       "      <td>S</td>\n",
       "      <td>WD</td>\n",
       "      <td>0</td>\n",
       "      <td>SR2020</td>\n",
       "    </tr>\n",
       "    <tr>\n",
       "      <th>1</th>\n",
       "      <td>ID_0MD959MIZ0</td>\n",
       "      <td>L1083F00930C39S12674Ip.jpg</td>\n",
       "      <td>V</td>\n",
       "      <td>G</td>\n",
       "      <td>0</td>\n",
       "      <td>SR2021</td>\n",
       "    </tr>\n",
       "    <tr>\n",
       "      <th>2</th>\n",
       "      <td>ID_JRJCI4Q11V</td>\n",
       "      <td>24_initial_1_1463_1463.JPG</td>\n",
       "      <td>V</td>\n",
       "      <td>G</td>\n",
       "      <td>0</td>\n",
       "      <td>LR2020</td>\n",
       "    </tr>\n",
       "    <tr>\n",
       "      <th>3</th>\n",
       "      <td>ID_DBO3ZGI1GM</td>\n",
       "      <td>L341F00167C01S00324Rp14178.jpg</td>\n",
       "      <td>M</td>\n",
       "      <td>DR</td>\n",
       "      <td>60</td>\n",
       "      <td>SR2020</td>\n",
       "    </tr>\n",
       "    <tr>\n",
       "      <th>4</th>\n",
       "      <td>ID_ORZLWTEUUS</td>\n",
       "      <td>L1084F02394C39S13931Ip.jpg</td>\n",
       "      <td>V</td>\n",
       "      <td>G</td>\n",
       "      <td>0</td>\n",
       "      <td>SR2021</td>\n",
       "    </tr>\n",
       "  </tbody>\n",
       "</table>\n",
       "</div>"
      ],
      "text/plain": [
       "              ID                        filename growth_stage damage  extent  \\\n",
       "0  ID_1S8OOWQYCB  L427F01330C01S03961Rp02052.jpg            S     WD       0   \n",
       "1  ID_0MD959MIZ0      L1083F00930C39S12674Ip.jpg            V      G       0   \n",
       "2  ID_JRJCI4Q11V      24_initial_1_1463_1463.JPG            V      G       0   \n",
       "3  ID_DBO3ZGI1GM  L341F00167C01S00324Rp14178.jpg            M     DR      60   \n",
       "4  ID_ORZLWTEUUS      L1084F02394C39S13931Ip.jpg            V      G       0   \n",
       "\n",
       "   season  \n",
       "0  SR2020  \n",
       "1  SR2021  \n",
       "2  LR2020  \n",
       "3  SR2020  \n",
       "4  SR2021  "
      ]
     },
     "execution_count": 19,
     "metadata": {},
     "output_type": "execute_result"
    }
   ],
   "source": [
    "train_df.head()"
   ]
  },
  {
   "cell_type": "markdown",
   "metadata": {},
   "source": [
    "## Distribution of Data "
   ]
  },
  {
   "cell_type": "code",
   "execution_count": 55,
   "metadata": {},
   "outputs": [],
   "source": [
    "plt.style.use('fivethirtyeight')"
   ]
  },
  {
   "cell_type": "code",
   "execution_count": 56,
   "metadata": {},
   "outputs": [],
   "source": [
    "def hist_plot(col):\n",
    "    \n",
    "    plt.hist(col, edgecolor = 'black', color = 'orange', log = True);\n",
    "    plt.title(\"Histogram Showing Distribution\")\n",
    "    plt.xlabel('Extent of Damage')\n",
    "    plt.ylabel('Count')    "
   ]
  },
  {
   "cell_type": "code",
   "execution_count": 57,
   "metadata": {},
   "outputs": [
    {
     "data": {
      "image/png": "[encoded data removed]",
      "text/plain": [
       "<Figure size 432x288 with 1 Axes>"
      ]
     },
     "metadata": {},
     "output_type": "display_data"
    }
   ],
   "source": [
    "col = train_df['extent']\n",
    "hist_plot(col)"
   ]
  },
  {
   "cell_type": "markdown",
   "metadata": {},
   "source": [
    "## Observation\n",
    "\n",
    "1. The data is positively skewed "
   ]
  },
  {
   "cell_type": "code",
   "execution_count": 22,
   "metadata": {},
   "outputs": [],
   "source": [
    "def bar_plot(x, y):\n",
    "    \n",
    "    plt.bar(x, y, color = 'green', edgecolor = 'black')\n",
    "    plt.title('Bar Plot Showing Damage type against Extent')\n",
    "    plt.xlabel('Damage Type')\n",
    "    plt.ylabel('Extent of Damage')"
   ]
  },
  {
   "cell_type": "code",
   "execution_count": 23,
   "metadata": {},
   "outputs": [
    {
     "data": {
      "image/png": "[encoded data removed]",
      "text/plain": [
       "<Figure size 432x288 with 1 Axes>"
      ]
     },
     "metadata": {
      "needs_background": "light"
     },
     "output_type": "display_data"
    }
   ],
   "source": [
    "x = train_df['damage']\n",
    "y = train_df['extent']\n",
    "\n",
    "bar_plot(x, y)"
   ]
  },
  {
   "cell_type": "code",
   "execution_count": 47,
   "metadata": {},
   "outputs": [],
   "source": [
    "## Observation\n",
    "#1. Drought Damaged crops had the most dire effects / greatest extent damage on crops "
   ]
  },
  {
   "cell_type": "code",
   "execution_count": 49,
   "metadata": {},
   "outputs": [],
   "source": [
    "def plot_pie_chart(unique_counts, labels):\n",
    "    \n",
    "    plt.pie(unique_counts, startangle=45, shadow = True, labels = labels, autopct = '%1.1f%%')\n",
    "    plt.title('Pie Chart')\n",
    "    plt.show()\n",
    "    "
   ]
  },
  {
   "cell_type": "code",
   "execution_count": 50,
   "metadata": {},
   "outputs": [
    {
     "data": {
      "image/png": "[encoded data removed]",
      "text/plain": [
       "<Figure size 432x288 with 1 Axes>"
      ]
     },
     "metadata": {},
     "output_type": "display_data"
    }
   ],
   "source": [
    "seasons_counts = train_df['season'].value_counts()\n",
    "unique_counts = seasons_counts.values # values attribute of a pandas series \n",
    "labels = seasons_counts.index\n",
    "\n",
    "plot_pie_chart(unique_counts, labels)"
   ]
  },
  {
   "cell_type": "markdown",
   "metadata": {},
   "source": [
    "## Observations \n",
    "1. a great amount of data was collected during the long rain season in 2021 and during the short rain seaso season in 2021 "
   ]
  },
  {
   "cell_type": "code",
   "execution_count": 79,
   "metadata": {},
   "outputs": [],
   "source": [
    "def horizontal_bar(counts):\n",
    "    \n",
    "    sorted_counts = counts.sort_values(ascending=True)\n",
    "    sorted_counts.plot.barh(width = 0.5, log = True, edgecolor = 'black')\n",
    "    plt.title('Damage Horizontal Bar')\n",
    "    plt.xlabel('Counts')\n",
    "    plt.ylabel('Damage Type')"
   ]
  },
  {
   "cell_type": "code",
   "execution_count": 81,
   "metadata": {},
   "outputs": [
    {
     "data": {
      "image/png": "[encoded data removed]",
      "text/plain": [
       "<Figure size 432x288 with 1 Axes>"
      ]
     },
     "metadata": {},
     "output_type": "display_data"
    }
   ],
   "source": [
    "damage_counts = train_df['damage'].value_counts()\n",
    "horizontal_bar(damage_counts)"
   ]
  },
  {
   "cell_type": "markdown",
   "metadata": {},
   "source": [
    "*Note*\n",
    "1. next visualization will require comparison between two or more columns "
   ]
  },
  {
   "cell_type": "markdown",
   "metadata": {},
   "source": [
    "#### Grouping Columns "
   ]
  },
  {
   "cell_type": "code",
   "execution_count": 25,
   "metadata": {},
   "outputs": [
    {
     "data": {
      "text/html": [
       "<div>\n",
       "<style scoped>\n",
       "    .dataframe tbody tr th:only-of-type {\n",
       "        vertical-align: middle;\n",
       "    }\n",
       "\n",
       "    .dataframe tbody tr th {\n",
       "        vertical-align: top;\n",
       "    }\n",
       "\n",
       "    .dataframe thead th {\n",
       "        text-align: right;\n",
       "    }\n",
       "</style>\n",
       "<table border=\"1\" class=\"dataframe\">\n",
       "  <thead>\n",
       "    <tr style=\"text-align: right;\">\n",
       "      <th></th>\n",
       "      <th>ID</th>\n",
       "      <th>filename</th>\n",
       "      <th>growth_stage</th>\n",
       "      <th>damage</th>\n",
       "      <th>extent</th>\n",
       "      <th>season</th>\n",
       "    </tr>\n",
       "  </thead>\n",
       "  <tbody>\n",
       "    <tr>\n",
       "      <th>0</th>\n",
       "      <td>ID_1S8OOWQYCB</td>\n",
       "      <td>L427F01330C01S03961Rp02052.jpg</td>\n",
       "      <td>S</td>\n",
       "      <td>WD</td>\n",
       "      <td>0</td>\n",
       "      <td>SR2020</td>\n",
       "    </tr>\n",
       "    <tr>\n",
       "      <th>1</th>\n",
       "      <td>ID_0MD959MIZ0</td>\n",
       "      <td>L1083F00930C39S12674Ip.jpg</td>\n",
       "      <td>V</td>\n",
       "      <td>G</td>\n",
       "      <td>0</td>\n",
       "      <td>SR2021</td>\n",
       "    </tr>\n",
       "    <tr>\n",
       "      <th>2</th>\n",
       "      <td>ID_JRJCI4Q11V</td>\n",
       "      <td>24_initial_1_1463_1463.JPG</td>\n",
       "      <td>V</td>\n",
       "      <td>G</td>\n",
       "      <td>0</td>\n",
       "      <td>LR2020</td>\n",
       "    </tr>\n",
       "    <tr>\n",
       "      <th>3</th>\n",
       "      <td>ID_DBO3ZGI1GM</td>\n",
       "      <td>L341F00167C01S00324Rp14178.jpg</td>\n",
       "      <td>M</td>\n",
       "      <td>DR</td>\n",
       "      <td>60</td>\n",
       "      <td>SR2020</td>\n",
       "    </tr>\n",
       "    <tr>\n",
       "      <th>4</th>\n",
       "      <td>ID_ORZLWTEUUS</td>\n",
       "      <td>L1084F02394C39S13931Ip.jpg</td>\n",
       "      <td>V</td>\n",
       "      <td>G</td>\n",
       "      <td>0</td>\n",
       "      <td>SR2021</td>\n",
       "    </tr>\n",
       "    <tr>\n",
       "      <th>...</th>\n",
       "      <td>...</td>\n",
       "      <td>...</td>\n",
       "      <td>...</td>\n",
       "      <td>...</td>\n",
       "      <td>...</td>\n",
       "      <td>...</td>\n",
       "    </tr>\n",
       "    <tr>\n",
       "      <th>26063</th>\n",
       "      <td>ID_3II1SXC0ZO</td>\n",
       "      <td>L1084F03259C39S12149Rp41671.jpg</td>\n",
       "      <td>M</td>\n",
       "      <td>DR</td>\n",
       "      <td>30</td>\n",
       "      <td>SR2021</td>\n",
       "    </tr>\n",
       "    <tr>\n",
       "      <th>26064</th>\n",
       "      <td>ID_OE7OU9ZF4U</td>\n",
       "      <td>L406F04369C01S07190Rp22847.jpg</td>\n",
       "      <td>V</td>\n",
       "      <td>G</td>\n",
       "      <td>0</td>\n",
       "      <td>LR2021</td>\n",
       "    </tr>\n",
       "    <tr>\n",
       "      <th>26065</th>\n",
       "      <td>ID_20M531UIZZ</td>\n",
       "      <td>L134F00766C01S09784Rp26034.jpg</td>\n",
       "      <td>M</td>\n",
       "      <td>G</td>\n",
       "      <td>0</td>\n",
       "      <td>LR2021</td>\n",
       "    </tr>\n",
       "    <tr>\n",
       "      <th>26066</th>\n",
       "      <td>ID_BZBV2FH0KL</td>\n",
       "      <td>L1153F02464C01S00194Rp01561.jpg</td>\n",
       "      <td>F</td>\n",
       "      <td>G</td>\n",
       "      <td>0</td>\n",
       "      <td>SR2020</td>\n",
       "    </tr>\n",
       "    <tr>\n",
       "      <th>26067</th>\n",
       "      <td>ID_ZVBF61EA0I</td>\n",
       "      <td>L406F00362C01S00614Rp06760.jpg</td>\n",
       "      <td>V</td>\n",
       "      <td>G</td>\n",
       "      <td>0</td>\n",
       "      <td>SR2020</td>\n",
       "    </tr>\n",
       "  </tbody>\n",
       "</table>\n",
       "<p>26068 rows × 6 columns</p>\n",
       "</div>"
      ],
      "text/plain": [
       "                  ID                         filename growth_stage damage  \\\n",
       "0      ID_1S8OOWQYCB   L427F01330C01S03961Rp02052.jpg            S     WD   \n",
       "1      ID_0MD959MIZ0       L1083F00930C39S12674Ip.jpg            V      G   \n",
       "2      ID_JRJCI4Q11V       24_initial_1_1463_1463.JPG            V      G   \n",
       "3      ID_DBO3ZGI1GM   L341F00167C01S00324Rp14178.jpg            M     DR   \n",
       "4      ID_ORZLWTEUUS       L1084F02394C39S13931Ip.jpg            V      G   \n",
       "...              ...                              ...          ...    ...   \n",
       "26063  ID_3II1SXC0ZO  L1084F03259C39S12149Rp41671.jpg            M     DR   \n",
       "26064  ID_OE7OU9ZF4U   L406F04369C01S07190Rp22847.jpg            V      G   \n",
       "26065  ID_20M531UIZZ   L134F00766C01S09784Rp26034.jpg            M      G   \n",
       "26066  ID_BZBV2FH0KL  L1153F02464C01S00194Rp01561.jpg            F      G   \n",
       "26067  ID_ZVBF61EA0I   L406F00362C01S00614Rp06760.jpg            V      G   \n",
       "\n",
       "       extent  season  \n",
       "0           0  SR2020  \n",
       "1           0  SR2021  \n",
       "2           0  LR2020  \n",
       "3          60  SR2020  \n",
       "4           0  SR2021  \n",
       "...       ...     ...  \n",
       "26063      30  SR2021  \n",
       "26064       0  LR2021  \n",
       "26065       0  LR2021  \n",
       "26066       0  SR2020  \n",
       "26067       0  SR2020  \n",
       "\n",
       "[26068 rows x 6 columns]"
      ]
     },
     "execution_count": 25,
     "metadata": {},
     "output_type": "execute_result"
    }
   ],
   "source": [
    "train_df"
   ]
  },
  {
   "cell_type": "code",
   "execution_count": 26,
   "metadata": {},
   "outputs": [
    {
     "data": {
      "text/plain": [
       "V    10015\n",
       "M     6664\n",
       "F     6164\n",
       "S     3225\n",
       "Name: growth_stage, dtype: int64"
      ]
     },
     "execution_count": 26,
     "metadata": {},
     "output_type": "execute_result"
    }
   ],
   "source": [
    "train_df.growth_stage.value_counts()"
   ]
  },
  {
   "cell_type": "markdown",
   "metadata": {},
   "source": [
    "sowing\n",
    "maturity\n",
    "flowering\n",
    "vegetative \n",
    "\n",
    "drought \n",
    "WD-weed\n",
    "good \n",
    "disease\n",
    "flood\n",
    "nutrient deficiency\n",
    "pest\n",
    "WN wind \n",
    "\n",
    "shortrains\n",
    "longrains "
   ]
  },
  {
   "cell_type": "code",
   "execution_count": 86,
   "metadata": {},
   "outputs": [
    {
     "data": {
      "image/png": "[encoded data removed]",
      "text/plain": [
       "<Figure size 720x432 with 1 Axes>"
      ]
     },
     "metadata": {},
     "output_type": "display_data"
    }
   ],
   "source": [
    "#relationship between groethstage and damage \n",
    "plt.figure(figsize=(10, 6))\n",
    "sns.countplot(data=train_df, x='growth_stage', hue='damage')\n",
    "plt.xlabel('Growth Stage')\n",
    "plt.ylabel('Count')\n",
    "plt.title('Count of Damage by Growth Stage')\n",
    "plt.show()"
   ]
  },
  {
   "cell_type": "markdown",
   "metadata": {},
   "source": [
    "###### Above Observation\n",
    "Maize farms are not being weeded during the vegetative stage which has the highest count \n",
    "During maturity stage drought affects most plants with the highest count \n",
    "\n",
    "In all the Growth stages the most consistent Damage is WeedDamage "
   ]
  },
  {
   "cell_type": "code",
   "execution_count": 88,
   "metadata": {
    "scrolled": true
   },
   "outputs": [
    {
     "data": {
      "image/png": "[encoded data removed]",
      "text/plain": [
       "<Figure size 432x288 with 1 Axes>"
      ]
     },
     "metadata": {},
     "output_type": "display_data"
    }
   ],
   "source": [
    "#relationship between season and extent\n",
    "sns.barplot(data=train_df, x='season', y='extent')\n",
    "plt.title('Relationship between seasons $ extent')\n",
    "plt.show()"
   ]
  },
  {
   "cell_type": "markdown",
   "metadata": {},
   "source": [
    "##### Above Observation \n",
    "For shortrains 2020 the extent damage had the highest count could be there was shortage of water  "
   ]
  },
  {
   "cell_type": "code",
   "execution_count": 94,
   "metadata": {},
   "outputs": [],
   "source": [
    "#\n",
    "#plt.figure(figsize=(10, 6))\n",
    "#sns.countplot(data=train_df, x='extent', hue='damage', log=True)\n",
    "#plt.xlabel('extent')\n",
    "#plt.ylabel('damage')\n",
    "#plt.show()"
   ]
  },
  {
   "cell_type": "code",
   "execution_count": 101,
   "metadata": {
    "scrolled": false
   },
   "outputs": [
    {
     "data": {
      "image/png": "[encoded data removed]",
      "text/plain": [
       "<Figure size 720x432 with 1 Axes>"
      ]
     },
     "metadata": {},
     "output_type": "display_data"
    }
   ],
   "source": [
    "plt.figure(figsize=(10, 6))\n",
    "sns.countplot(data=train_df, x='extent', hue='growth_stage')\n",
    "plt.xlabel('Extent')\n",
    "plt.ylabel('Count')\n",
    "plt.title('Count of Damage by Growth Stage')\n",
    "plt.show()"
   ]
  },
  {
   "cell_type": "markdown",
   "metadata": {},
   "source": [
    "###### Above Observation\n",
    "During maturity stage is when we see most plants are damaged."
   ]
  }
 ],
 "metadata": {
  "colab": {
   "provenance": []
  },
  "kernelspec": {
   "display_name": "Python 3",
   "language": "python",
   "name": "python3"
  },
  "language_info": {
   "codemirror_mode": {
    "name": "ipython",
    "version": 3
   },
   "file_extension": ".py",
   "mimetype": "text/x-python",
   "name": "python",
   "nbconvert_exporter": "python",
   "pygments_lexer": "ipython3",
   "version": "3.8.5"
  }
 },
 "nbformat": 4,
 "nbformat_minor": 1
}
